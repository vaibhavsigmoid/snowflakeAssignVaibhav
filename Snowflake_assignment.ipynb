{
 "cells": [
  {
   "cell_type": "markdown",
   "id": "1e4d857a-eb09-489d-a5e9-a83fd828759b",
   "metadata": {},
   "source": [
    "Q1: Create roles as per the below-mentioned hierarchy"
   ]
  },
  {
   "cell_type": "code",
   "execution_count": null,
   "id": "1c3fdde6-2744-4bc7-990e-e40c4c736562",
   "metadata": {},
   "outputs": [],
   "source": [
    "create ROLE IDENTIFIER('\"ADMIN\"') COMMENT = ''\n",
    "GRANT ROLE IDENTIFIER('\"ADMIN\"') TO ROLE IDENTIFIER('\"ACCOUNTADMIN\"')\n",
    "create ROLE IDENTIFIER('\"DEVELOPER\"') COMMENT = ''\n",
    "GRANT ROLE IDENTIFIER('\"DEVELOPER\"') TO ROLE IDENTIFIER('\"ADMIN\"')\n",
    "create ROLE IDENTIFIER('\"PII\"') COMMENT = ''\n",
    "GRANT ROLE IDENTIFIER('\"PII\"') TO ROLE IDENTIFIER('\"ACCOUNTADMIN\"')"
   ]
  },
  {
   "cell_type": "markdown",
   "id": "01a207cd-5237-43b2-b4d9-5cabb5509a17",
   "metadata": {},
   "source": [
    "Q2: Create an M-sized warehouse using the accountadmin role"
   ]
  },
  {
   "cell_type": "code",
   "execution_count": null,
   "id": "63586985-0aa1-4040-bf5d-38dfebd62388",
   "metadata": {},
   "outputs": [],
   "source": [
    "create WAREHOUSE IDENTIFIER('\"ASSIGNMENT_WH\"') COMMENT = '' WAREHOUSE_SIZE\n",
    "= 'Medium' AUTO_RESUME = true AUTO_SUSPEND = 300\n",
    "ENABLE_QUERY_ACCELERATION = false WAREHOUSE_TYPE = 'STANDARD'\n",
    "MIN_CLUSTER_COUNT = 1 MAX_CLUSTER_COUNT = 1 SCALING_POLICY = 'STANDARD'"
   ]
  },
  {
   "cell_type": "markdown",
   "id": "b669c8bc-8f74-4685-8a6d-c6b104a0e8fa",
   "metadata": {},
   "source": [
    " Q3: Switch to the admin role"
   ]
  },
  {
   "cell_type": "code",
   "execution_count": null,
   "id": "bbd924aa-0ae4-44d1-a53b-982811463fc6",
   "metadata": {},
   "outputs": [],
   "source": [
    "use role admin;"
   ]
  },
  {
   "cell_type": "markdown",
   "id": "f6aae7c6-a3c2-4ca6-8855-c83c6395752a",
   "metadata": {},
   "source": [
    "Q4: Create a database assignment_db"
   ]
  },
  {
   "cell_type": "code",
   "execution_count": null,
   "id": "aeafba90-1f94-462f-b31a-fbfe975b23e0",
   "metadata": {},
   "outputs": [],
   "source": [
    "CREATE DATABASE ASSIGNMENT_DB;"
   ]
  },
  {
   "cell_type": "markdown",
   "id": "8852ab2b-c187-40e4-ab5d-bab45fabb853",
   "metadata": {},
   "source": [
    "Q5: Create a schema my_schema"
   ]
  },
  {
   "cell_type": "code",
   "execution_count": null,
   "id": "99ffb3ee-f807-4f39-a138-392faa8a1cf0",
   "metadata": {},
   "outputs": [],
   "source": [
    "CREATE SCHEMA my_schema;\n",
    "USE SCHEMA MY_SCHEMA;"
   ]
  },
  {
   "cell_type": "markdown",
   "id": "d7f3c5b0-8b11-440e-abb8-44a438008ed6",
   "metadata": {},
   "source": [
    "Q6: Create a table using any sample csv"
   ]
  },
  {
   "cell_type": "code",
   "execution_count": null,
   "id": "8a8d9990-3b12-4c91-8f6e-115753db787b",
   "metadata": {},
   "outputs": [],
   "source": [
    "CREATE TABLE assignment_db.my_schema.employee (\n",
    "employee_id INT,\n",
    "first_name VARCHAR(50),\n",
    "last_name VARCHAR(50),\n",
    "email VARCHAR(100),\n",
    "phone_number VARCHAR(20),\n",
    "hire_date DATE,\n",
    "salary DECIMAL(10,2),\n",
    "inserted_at TIMESTAMP DEFAULT CURRENT_TIMESTAMP(),\n",
    "elt_by VARCHAR(50) DEFAULT 'SnowSQL CLI',\n",
    "file_name VARCHAR(255)\n",
    ");"
   ]
  },
  {
   "cell_type": "markdown",
   "id": "2232856c-56ae-4b44-82a3-cb98211cb2b8",
   "metadata": {},
   "source": [
    "Q7: Also, create a variant version of this dataset"
   ]
  },
  {
   "cell_type": "code",
   "execution_count": null,
   "id": "f4407780-8a38-4966-b486-4f0eca1c5006",
   "metadata": {},
   "outputs": [],
   "source": [
    "CREATE table assignment_db.my_schema.employee_variant (\n",
    "employee_id INT,\n",
    "first_name VARCHAR(50),\n",
    "last_name VARCHAR(50),\n",
    "email VARCHAR(100),\n",
    "phone_number VARCHAR(20),\n",
    "hire_date DATE,\n",
    "salary DECIMAL(10,2),\n",
    "inserted_at TIMESTAMP DEFAULT CURRENT_TIMESTAMP(),\n",
    "elt_by VARCHAR(50) DEFAULT 'SnowSQL CLI',\n",
    "file_name VARCHAR(255)\n",
    ");"
   ]
  },
  {
   "cell_type": "markdown",
   "id": "525b1a58-3be6-4746-8b42-b315fa4f0185",
   "metadata": {},
   "source": [
    "Q8 and Q9: Load the file into an external and internal stage and copy into both tables"
   ]
  },
  {
   "cell_type": "code",
   "execution_count": null,
   "id": "0cf9302c-8708-4ace-8adf-1a766438fdc9",
   "metadata": {},
   "outputs": [],
   "source": [
    "use ASSIGNMENT_DB.my_schema;\n",
    "create or replace stage mystage;\n",
    "use role ACCOUNTADMIN;\n",
    "grant all privileges on stage mystage to role ADMIN;\n",
    "use role admin;\n",
    "put file:///Users/vaibhavgupta/Downloads/emp_sampledata.csv @mystage;\n",
    "copy into EMPLOYEE from @mystage/emp_sampledata.csv file_format = (type = csv\n",
    "skip_header = 1);\n",
    "select * from EMPLOYEE limit 5;\n",
    "\n",
    "create or replace file format assingment_db.my_schema.my_csv_format\n",
    "type = csv\n",
    "field_delimiter = ','\n",
    "skip_header = 1\n",
    "null_if = ('NULL', 'null')\n",
    "empty_field_as_null = true;\n",
    "\n",
    "create or replace storage integration s3_int2 type = external_stage storage_provider= s3\n",
    "enabled = true storage_aws_role_arn='arn:aws:iam::737865507436:role/vaibhavrole'\n",
    "storage_allowed_locations =('s3://assingmentbucket');\n",
    "\n",
    "grant ownership on integration s3_int2 to role admin;\n",
    "\n",
    "create stage my_external_stage STORAGE_INTEGRATION =s3_int2\n",
    "URL='s3://assingmentbucket/emp_sampledata.csv' file_format=my_csv_format;\n",
    "\n",
    "copy into employee_variant from @my_external_stage;"
   ]
  },
  {
   "cell_type": "markdown",
   "id": "1fdf49d3-af78-4b1f-b97a-1ffee1ebd34b",
   "metadata": {},
   "source": [
    "Q10: for staging the parquet file user1data.parquet; in terminal"
   ]
  },
  {
   "cell_type": "code",
   "execution_count": null,
   "id": "38451837-43a2-4c64-b212-e3457f5514c1",
   "metadata": {},
   "outputs": [],
   "source": [
    "PUT\n",
    "file:///Users/vaibhavgupta/Documents/Snowflake/userdata1.parquet\n",
    "@mystage;\n",
    "create file format myparquetformat TYPE =parquet;"
   ]
  },
  {
   "cell_type": "markdown",
   "id": "5f34bdce-2314-4190-a647-bcea1c9ff44f",
   "metadata": {},
   "source": [
    "Q11: Select query and using inferschema"
   ]
  },
  {
   "cell_type": "code",
   "execution_count": null,
   "id": "ce6fbb11-4eb7-4a3c-ab00-050563832d6e",
   "metadata": {},
   "outputs": [],
   "source": [
    "select * from table (INFER_SCHEMA (LOCATION =>'@mystage',FILE\n",
    "_FORMAT=>'myparquetformat'));"
   ]
  },
  {
   "cell_type": "markdown",
   "id": "02660f52-d1b6-4ea5-802d-b9e5dfda7b47",
   "metadata": {},
   "source": [
    " Q12: Add masking policy to the PII columns such that fields like email, phone number, etc. show as **masked** to a user with the developer role. If the role is PII the value of these columns should be visible"
   ]
  },
  {
   "cell_type": "code",
   "execution_count": null,
   "id": "5cfe7bbb-47ea-4d39-a5de-aef133e4b67f",
   "metadata": {},
   "outputs": [],
   "source": [
    "CREATE MASKING POLICY PII_masking\n",
    "AS (val STRING)\n",
    "RETURNS STRING ->\n",
    "CASE\n",
    "WHEN CURRENT_ROLE() = 'DEVELOPER' THEN '**MASKED**'\n",
    "ELSE val\n",
    "END;\n",
    "\n",
    "ALTER TABLE employee MODIFY COLUMN EMAIL SET MASKING POLICY PII_masking;\n",
    "ALTER TABLE employee MODIFY COLUMN EMPLOYEE_ID SET MASKING POLICY\n",
    "PII_masking;\n",
    "\n",
    "GRANT SELECT(EMAIL) ON employee TO ROLE developer;\n",
    "GRANT SELECT(EMPLOYEE_ID) ON employee TO ROLE developer;"
   ]
  }
 ],
 "metadata": {
  "kernelspec": {
   "display_name": "Python 3 (ipykernel)",
   "language": "python",
   "name": "python3"
  },
  "language_info": {
   "codemirror_mode": {
    "name": "ipython",
    "version": 3
   },
   "file_extension": ".py",
   "mimetype": "text/x-python",
   "name": "python",
   "nbconvert_exporter": "python",
   "pygments_lexer": "ipython3",
   "version": "3.12.4"
  }
 },
 "nbformat": 4,
 "nbformat_minor": 5
}
